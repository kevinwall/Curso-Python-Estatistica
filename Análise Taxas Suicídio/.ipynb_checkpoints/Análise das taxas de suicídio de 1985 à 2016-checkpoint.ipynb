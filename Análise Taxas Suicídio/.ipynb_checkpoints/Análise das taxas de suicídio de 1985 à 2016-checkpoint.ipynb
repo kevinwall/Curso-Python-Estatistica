{
 "cells": [
  {
   "cell_type": "markdown",
   "metadata": {
    "colab_type": "text",
    "id": "oF5EuXMXMIxT"
   },
   "source": [
    "# Análise das taxas de suicídio de 1985 à 2016\n",
    "\n",
    "Essa análise foi retirada de: https://www.kaggle.com/nidaguler/eda-and-prediction-suicide-1985-to-2016/notebook\n",
    "\n",
    "# Preparações\n",
    "Primeiramente, iremos importar o pandas."
   ]
  },
  {
   "cell_type": "code",
   "execution_count": 31,
   "metadata": {
    "colab": {},
    "colab_type": "code",
    "id": "j5tSe9t5HF41"
   },
   "outputs": [],
   "source": [
    "import pandas as pd"
   ]
  },
  {
   "cell_type": "markdown",
   "metadata": {
    "colab_type": "text",
    "id": "MMrznBwjNR7d"
   },
   "source": [
    "Agora, iremos carregar o dataset "
   ]
  },
  {
   "cell_type": "code",
   "execution_count": 32,
   "metadata": {
    "colab": {},
    "colab_type": "code",
    "id": "GnkVmXsIJhaJ"
   },
   "outputs": [],
   "source": [
    "df_suicide = pd.read_csv(\"master.csv\")"
   ]
  },
  {
   "cell_type": "markdown",
   "metadata": {
    "colab_type": "text",
    "id": "GyJJoeQTONfk"
   },
   "source": [
    "# Entendendo o dataset\n",
    "Para entender o dataset que iremos utilizar, devemos entender as colunas do arquivo. \n",
    "Dessa forma, a partir do comando **colums** podemos observar que o dataset contém as seguintes colunas:\n",
    "\n",
    "\n",
    "*    Country: País da amostra\n",
    "*    Year: Ano da amostra\n",
    "*    Age: Faixa etária da amostra\n",
    "*    Suicides_no: Número de ocorrências registradas\n",
    "*    Population: Quantidade de pessoas com determinada faixa etária, no país\n",
    "*    Suicides/100k pop: Quantidade de suicídios por cem mil habitantes.\n",
    "*    Country-year: String contendo ano e país juntos\n",
    "*    HDI for year: Índice de desenvolvimento Humano(IDH) para o ano\n",
    "*    gdp_for_year \\(\\$\\): O produto interno bruto(PIB) por ano\n",
    "*    gdp_per_capita \\(\\$\\): O produto interno bruto(PIB) per capita\n",
    "*    generation: Nome da geração da amostra\n",
    "\n",
    "\n"
   ]
  },
  {
   "cell_type": "code",
   "execution_count": 33,
   "metadata": {
    "colab": {
     "base_uri": "https://localhost:8080/",
     "height": 89
    },
    "colab_type": "code",
    "executionInfo": {
     "elapsed": 616,
     "status": "ok",
     "timestamp": 1571149621597,
     "user": {
      "displayName": "Daniel Henrique",
      "photoUrl": "https://lh3.googleusercontent.com/a-/AAuE7mB7uWOgDcs88_gDwPKr1GNV-XB4MutknSONoATWZA=s64",
      "userId": "14100109719413336991"
     },
     "user_tz": 180
    },
    "id": "yr9ABdVuQO_l",
    "outputId": "8af3bc76-57e0-4572-9a40-5f5c8e978129"
   },
   "outputs": [
    {
     "data": {
      "text/plain": [
       "Index(['country', 'year', 'sex', 'age', 'suicides_no', 'population',\n",
       "       'suicides/100k pop', 'country-year', 'HDI for year',\n",
       "       ' gdp_for_year ($) ', 'gdp_per_capita ($)', 'generation'],\n",
       "      dtype='object')"
      ]
     },
     "execution_count": 33,
     "metadata": {},
     "output_type": "execute_result"
    }
   ],
   "source": [
    "df_suicide.columns"
   ]
  },
  {
   "cell_type": "markdown",
   "metadata": {
    "colab_type": "text",
    "id": "nfQzV6K_UtYT"
   },
   "source": [
    "Para observar melhor o nosso conjuto de dados, podemos chamar as funções **describe()** e **head()**"
   ]
  },
  {
   "cell_type": "code",
   "execution_count": 34,
   "metadata": {
    "colab": {
     "base_uri": "https://localhost:8080/",
     "height": 411
    },
    "colab_type": "code",
    "executionInfo": {
     "elapsed": 790,
     "status": "ok",
     "timestamp": 1571149634506,
     "user": {
      "displayName": "Daniel Henrique",
      "photoUrl": "https://lh3.googleusercontent.com/a-/AAuE7mB7uWOgDcs88_gDwPKr1GNV-XB4MutknSONoATWZA=s64",
      "userId": "14100109719413336991"
     },
     "user_tz": 180
    },
    "id": "xN7vvQILPvaP",
    "outputId": "3e742724-395e-47e9-ef0c-42e01c4f7056"
   },
   "outputs": [
    {
     "data": {
      "text/html": [
       "<div>\n",
       "<style scoped>\n",
       "    .dataframe tbody tr th:only-of-type {\n",
       "        vertical-align: middle;\n",
       "    }\n",
       "\n",
       "    .dataframe tbody tr th {\n",
       "        vertical-align: top;\n",
       "    }\n",
       "\n",
       "    .dataframe thead th {\n",
       "        text-align: right;\n",
       "    }\n",
       "</style>\n",
       "<table border=\"1\" class=\"dataframe\">\n",
       "  <thead>\n",
       "    <tr style=\"text-align: right;\">\n",
       "      <th></th>\n",
       "      <th>country</th>\n",
       "      <th>year</th>\n",
       "      <th>sex</th>\n",
       "      <th>age</th>\n",
       "      <th>suicides_no</th>\n",
       "      <th>population</th>\n",
       "      <th>suicides/100k pop</th>\n",
       "      <th>country-year</th>\n",
       "      <th>HDI for year</th>\n",
       "      <th>gdp_for_year ($)</th>\n",
       "      <th>gdp_per_capita ($)</th>\n",
       "      <th>generation</th>\n",
       "    </tr>\n",
       "  </thead>\n",
       "  <tbody>\n",
       "    <tr>\n",
       "      <th>0</th>\n",
       "      <td>Albania</td>\n",
       "      <td>1987</td>\n",
       "      <td>male</td>\n",
       "      <td>15-24 years</td>\n",
       "      <td>21</td>\n",
       "      <td>312900</td>\n",
       "      <td>6.71</td>\n",
       "      <td>Albania1987</td>\n",
       "      <td>NaN</td>\n",
       "      <td>2,156,624,900</td>\n",
       "      <td>796</td>\n",
       "      <td>Generation X</td>\n",
       "    </tr>\n",
       "    <tr>\n",
       "      <th>1</th>\n",
       "      <td>Albania</td>\n",
       "      <td>1987</td>\n",
       "      <td>male</td>\n",
       "      <td>35-54 years</td>\n",
       "      <td>16</td>\n",
       "      <td>308000</td>\n",
       "      <td>5.19</td>\n",
       "      <td>Albania1987</td>\n",
       "      <td>NaN</td>\n",
       "      <td>2,156,624,900</td>\n",
       "      <td>796</td>\n",
       "      <td>Silent</td>\n",
       "    </tr>\n",
       "    <tr>\n",
       "      <th>2</th>\n",
       "      <td>Albania</td>\n",
       "      <td>1987</td>\n",
       "      <td>female</td>\n",
       "      <td>15-24 years</td>\n",
       "      <td>14</td>\n",
       "      <td>289700</td>\n",
       "      <td>4.83</td>\n",
       "      <td>Albania1987</td>\n",
       "      <td>NaN</td>\n",
       "      <td>2,156,624,900</td>\n",
       "      <td>796</td>\n",
       "      <td>Generation X</td>\n",
       "    </tr>\n",
       "    <tr>\n",
       "      <th>3</th>\n",
       "      <td>Albania</td>\n",
       "      <td>1987</td>\n",
       "      <td>male</td>\n",
       "      <td>75+ years</td>\n",
       "      <td>1</td>\n",
       "      <td>21800</td>\n",
       "      <td>4.59</td>\n",
       "      <td>Albania1987</td>\n",
       "      <td>NaN</td>\n",
       "      <td>2,156,624,900</td>\n",
       "      <td>796</td>\n",
       "      <td>G.I. Generation</td>\n",
       "    </tr>\n",
       "    <tr>\n",
       "      <th>4</th>\n",
       "      <td>Albania</td>\n",
       "      <td>1987</td>\n",
       "      <td>male</td>\n",
       "      <td>25-34 years</td>\n",
       "      <td>9</td>\n",
       "      <td>274300</td>\n",
       "      <td>3.28</td>\n",
       "      <td>Albania1987</td>\n",
       "      <td>NaN</td>\n",
       "      <td>2,156,624,900</td>\n",
       "      <td>796</td>\n",
       "      <td>Boomers</td>\n",
       "    </tr>\n",
       "  </tbody>\n",
       "</table>\n",
       "</div>"
      ],
      "text/plain": [
       "   country  year     sex          age  suicides_no  population  \\\n",
       "0  Albania  1987    male  15-24 years           21      312900   \n",
       "1  Albania  1987    male  35-54 years           16      308000   \n",
       "2  Albania  1987  female  15-24 years           14      289700   \n",
       "3  Albania  1987    male    75+ years            1       21800   \n",
       "4  Albania  1987    male  25-34 years            9      274300   \n",
       "\n",
       "   suicides/100k pop country-year  HDI for year  gdp_for_year ($)   \\\n",
       "0               6.71  Albania1987           NaN      2,156,624,900   \n",
       "1               5.19  Albania1987           NaN      2,156,624,900   \n",
       "2               4.83  Albania1987           NaN      2,156,624,900   \n",
       "3               4.59  Albania1987           NaN      2,156,624,900   \n",
       "4               3.28  Albania1987           NaN      2,156,624,900   \n",
       "\n",
       "   gdp_per_capita ($)       generation  \n",
       "0                 796     Generation X  \n",
       "1                 796           Silent  \n",
       "2                 796     Generation X  \n",
       "3                 796  G.I. Generation  \n",
       "4                 796          Boomers  "
      ]
     },
     "execution_count": 34,
     "metadata": {},
     "output_type": "execute_result"
    }
   ],
   "source": [
    "df_suicide.head()"
   ]
  },
  {
   "cell_type": "code",
   "execution_count": 35,
   "metadata": {
    "colab": {
     "base_uri": "https://localhost:8080/",
     "height": 297
    },
    "colab_type": "code",
    "executionInfo": {
     "elapsed": 1123,
     "status": "ok",
     "timestamp": 1571150003121,
     "user": {
      "displayName": "Daniel Henrique",
      "photoUrl": "https://lh3.googleusercontent.com/a-/AAuE7mB7uWOgDcs88_gDwPKr1GNV-XB4MutknSONoATWZA=s64",
      "userId": "14100109719413336991"
     },
     "user_tz": 180
    },
    "id": "-Z1srjaJVSts",
    "outputId": "f34b76cf-4d1f-4e11-e0a4-4dea81af9237"
   },
   "outputs": [
    {
     "data": {
      "text/html": [
       "<div>\n",
       "<style scoped>\n",
       "    .dataframe tbody tr th:only-of-type {\n",
       "        vertical-align: middle;\n",
       "    }\n",
       "\n",
       "    .dataframe tbody tr th {\n",
       "        vertical-align: top;\n",
       "    }\n",
       "\n",
       "    .dataframe thead th {\n",
       "        text-align: right;\n",
       "    }\n",
       "</style>\n",
       "<table border=\"1\" class=\"dataframe\">\n",
       "  <thead>\n",
       "    <tr style=\"text-align: right;\">\n",
       "      <th></th>\n",
       "      <th>year</th>\n",
       "      <th>suicides_no</th>\n",
       "      <th>population</th>\n",
       "      <th>suicides/100k pop</th>\n",
       "      <th>HDI for year</th>\n",
       "      <th>gdp_per_capita ($)</th>\n",
       "    </tr>\n",
       "  </thead>\n",
       "  <tbody>\n",
       "    <tr>\n",
       "      <th>count</th>\n",
       "      <td>27820.000000</td>\n",
       "      <td>27820.000000</td>\n",
       "      <td>2.782000e+04</td>\n",
       "      <td>27820.000000</td>\n",
       "      <td>8364.000000</td>\n",
       "      <td>27820.000000</td>\n",
       "    </tr>\n",
       "    <tr>\n",
       "      <th>mean</th>\n",
       "      <td>2001.258375</td>\n",
       "      <td>242.574407</td>\n",
       "      <td>1.844794e+06</td>\n",
       "      <td>12.816097</td>\n",
       "      <td>0.776601</td>\n",
       "      <td>16866.464414</td>\n",
       "    </tr>\n",
       "    <tr>\n",
       "      <th>std</th>\n",
       "      <td>8.469055</td>\n",
       "      <td>902.047917</td>\n",
       "      <td>3.911779e+06</td>\n",
       "      <td>18.961511</td>\n",
       "      <td>0.093367</td>\n",
       "      <td>18887.576472</td>\n",
       "    </tr>\n",
       "    <tr>\n",
       "      <th>min</th>\n",
       "      <td>1985.000000</td>\n",
       "      <td>0.000000</td>\n",
       "      <td>2.780000e+02</td>\n",
       "      <td>0.000000</td>\n",
       "      <td>0.483000</td>\n",
       "      <td>251.000000</td>\n",
       "    </tr>\n",
       "    <tr>\n",
       "      <th>25%</th>\n",
       "      <td>1995.000000</td>\n",
       "      <td>3.000000</td>\n",
       "      <td>9.749850e+04</td>\n",
       "      <td>0.920000</td>\n",
       "      <td>0.713000</td>\n",
       "      <td>3447.000000</td>\n",
       "    </tr>\n",
       "    <tr>\n",
       "      <th>50%</th>\n",
       "      <td>2002.000000</td>\n",
       "      <td>25.000000</td>\n",
       "      <td>4.301500e+05</td>\n",
       "      <td>5.990000</td>\n",
       "      <td>0.779000</td>\n",
       "      <td>9372.000000</td>\n",
       "    </tr>\n",
       "    <tr>\n",
       "      <th>75%</th>\n",
       "      <td>2008.000000</td>\n",
       "      <td>131.000000</td>\n",
       "      <td>1.486143e+06</td>\n",
       "      <td>16.620000</td>\n",
       "      <td>0.855000</td>\n",
       "      <td>24874.000000</td>\n",
       "    </tr>\n",
       "    <tr>\n",
       "      <th>max</th>\n",
       "      <td>2016.000000</td>\n",
       "      <td>22338.000000</td>\n",
       "      <td>4.380521e+07</td>\n",
       "      <td>224.970000</td>\n",
       "      <td>0.944000</td>\n",
       "      <td>126352.000000</td>\n",
       "    </tr>\n",
       "  </tbody>\n",
       "</table>\n",
       "</div>"
      ],
      "text/plain": [
       "               year   suicides_no    population  suicides/100k pop  \\\n",
       "count  27820.000000  27820.000000  2.782000e+04       27820.000000   \n",
       "mean    2001.258375    242.574407  1.844794e+06          12.816097   \n",
       "std        8.469055    902.047917  3.911779e+06          18.961511   \n",
       "min     1985.000000      0.000000  2.780000e+02           0.000000   \n",
       "25%     1995.000000      3.000000  9.749850e+04           0.920000   \n",
       "50%     2002.000000     25.000000  4.301500e+05           5.990000   \n",
       "75%     2008.000000    131.000000  1.486143e+06          16.620000   \n",
       "max     2016.000000  22338.000000  4.380521e+07         224.970000   \n",
       "\n",
       "       HDI for year  gdp_per_capita ($)  \n",
       "count   8364.000000        27820.000000  \n",
       "mean       0.776601        16866.464414  \n",
       "std        0.093367        18887.576472  \n",
       "min        0.483000          251.000000  \n",
       "25%        0.713000         3447.000000  \n",
       "50%        0.779000         9372.000000  \n",
       "75%        0.855000        24874.000000  \n",
       "max        0.944000       126352.000000  "
      ]
     },
     "execution_count": 35,
     "metadata": {},
     "output_type": "execute_result"
    }
   ],
   "source": [
    "df_suicide.describe()"
   ]
  },
  {
   "cell_type": "markdown",
   "metadata": {
    "colab_type": "text",
    "id": "HWKXBgCbXLk5"
   },
   "source": [
    "Além disso, a função **info** é interessante de ser utilizada por apresentar detalher sobres os valores contidos no dataset. Enquanto isso, o atributo **shape** contém a quantidade de linhas e colunas no dataset."
   ]
  },
  {
   "cell_type": "code",
   "execution_count": 36,
   "metadata": {
    "colab": {
     "base_uri": "https://localhost:8080/",
     "height": 323
    },
    "colab_type": "code",
    "executionInfo": {
     "elapsed": 839,
     "status": "ok",
     "timestamp": 1571150007858,
     "user": {
      "displayName": "Daniel Henrique",
      "photoUrl": "https://lh3.googleusercontent.com/a-/AAuE7mB7uWOgDcs88_gDwPKr1GNV-XB4MutknSONoATWZA=s64",
      "userId": "14100109719413336991"
     },
     "user_tz": 180
    },
    "id": "9qpD2162XIwg",
    "outputId": "63c0a8ce-88c9-4a46-c2a3-1234af4bb19e"
   },
   "outputs": [
    {
     "name": "stdout",
     "output_type": "stream",
     "text": [
      "<class 'pandas.core.frame.DataFrame'>\n",
      "RangeIndex: 27820 entries, 0 to 27819\n",
      "Data columns (total 12 columns):\n",
      "country               27820 non-null object\n",
      "year                  27820 non-null int64\n",
      "sex                   27820 non-null object\n",
      "age                   27820 non-null object\n",
      "suicides_no           27820 non-null int64\n",
      "population            27820 non-null int64\n",
      "suicides/100k pop     27820 non-null float64\n",
      "country-year          27820 non-null object\n",
      "HDI for year          8364 non-null float64\n",
      " gdp_for_year ($)     27820 non-null object\n",
      "gdp_per_capita ($)    27820 non-null int64\n",
      "generation            27820 non-null object\n",
      "dtypes: float64(2), int64(4), object(6)\n",
      "memory usage: 2.5+ MB\n"
     ]
    }
   ],
   "source": [
    "df_suicide.info()"
   ]
  },
  {
   "cell_type": "code",
   "execution_count": 37,
   "metadata": {
    "colab": {
     "base_uri": "https://localhost:8080/",
     "height": 35
    },
    "colab_type": "code",
    "executionInfo": {
     "elapsed": 848,
     "status": "ok",
     "timestamp": 1571150014351,
     "user": {
      "displayName": "Daniel Henrique",
      "photoUrl": "https://lh3.googleusercontent.com/a-/AAuE7mB7uWOgDcs88_gDwPKr1GNV-XB4MutknSONoATWZA=s64",
      "userId": "14100109719413336991"
     },
     "user_tz": 180
    },
    "id": "_VbeGNO8XNJJ",
    "outputId": "682dc57c-e29b-4df8-ce55-0f39c582f28e"
   },
   "outputs": [
    {
     "data": {
      "text/plain": [
       "(27820, 12)"
      ]
     },
     "execution_count": 37,
     "metadata": {},
     "output_type": "execute_result"
    }
   ],
   "source": [
    "df_suicide.shape"
   ]
  },
  {
   "cell_type": "markdown",
   "metadata": {},
   "source": [
    "Mostrando os valores ordenados por número de suicídios."
   ]
  },
  {
   "cell_type": "code",
   "execution_count": 39,
   "metadata": {
    "scrolled": true
   },
   "outputs": [
    {
     "data": {
      "text/html": [
       "<div>\n",
       "<style scoped>\n",
       "    .dataframe tbody tr th:only-of-type {\n",
       "        vertical-align: middle;\n",
       "    }\n",
       "\n",
       "    .dataframe tbody tr th {\n",
       "        vertical-align: top;\n",
       "    }\n",
       "\n",
       "    .dataframe thead th {\n",
       "        text-align: right;\n",
       "    }\n",
       "</style>\n",
       "<table border=\"1\" class=\"dataframe\">\n",
       "  <thead>\n",
       "    <tr style=\"text-align: right;\">\n",
       "      <th></th>\n",
       "      <th>country</th>\n",
       "      <th>year</th>\n",
       "      <th>sex</th>\n",
       "      <th>age</th>\n",
       "      <th>suicides_no</th>\n",
       "      <th>population</th>\n",
       "      <th>suicides/100k pop</th>\n",
       "      <th>country-year</th>\n",
       "      <th>HDI for year</th>\n",
       "      <th>gdp_for_year ($)</th>\n",
       "      <th>gdp_per_capita ($)</th>\n",
       "      <th>generation</th>\n",
       "    </tr>\n",
       "  </thead>\n",
       "  <tbody>\n",
       "    <tr>\n",
       "      <th>20996</th>\n",
       "      <td>Russian Federation</td>\n",
       "      <td>1994</td>\n",
       "      <td>male</td>\n",
       "      <td>35-54 years</td>\n",
       "      <td>22338</td>\n",
       "      <td>19044200</td>\n",
       "      <td>117.30</td>\n",
       "      <td>Russian Federation1994</td>\n",
       "      <td>NaN</td>\n",
       "      <td>395,077,301,248</td>\n",
       "      <td>2853</td>\n",
       "      <td>Boomers</td>\n",
       "    </tr>\n",
       "    <tr>\n",
       "      <th>21008</th>\n",
       "      <td>Russian Federation</td>\n",
       "      <td>1995</td>\n",
       "      <td>male</td>\n",
       "      <td>35-54 years</td>\n",
       "      <td>21706</td>\n",
       "      <td>19249600</td>\n",
       "      <td>112.76</td>\n",
       "      <td>Russian Federation1995</td>\n",
       "      <td>NaN</td>\n",
       "      <td>395,531,066,563</td>\n",
       "      <td>2844</td>\n",
       "      <td>Boomers</td>\n",
       "    </tr>\n",
       "    <tr>\n",
       "      <th>21080</th>\n",
       "      <td>Russian Federation</td>\n",
       "      <td>2001</td>\n",
       "      <td>male</td>\n",
       "      <td>35-54 years</td>\n",
       "      <td>21262</td>\n",
       "      <td>21476420</td>\n",
       "      <td>99.00</td>\n",
       "      <td>Russian Federation2001</td>\n",
       "      <td>NaN</td>\n",
       "      <td>306,602,673,980</td>\n",
       "      <td>2229</td>\n",
       "      <td>Boomers</td>\n",
       "    </tr>\n",
       "    <tr>\n",
       "      <th>21068</th>\n",
       "      <td>Russian Federation</td>\n",
       "      <td>2000</td>\n",
       "      <td>male</td>\n",
       "      <td>35-54 years</td>\n",
       "      <td>21063</td>\n",
       "      <td>21378098</td>\n",
       "      <td>98.53</td>\n",
       "      <td>Russian Federation2000</td>\n",
       "      <td>NaN</td>\n",
       "      <td>259,708,496,267</td>\n",
       "      <td>1879</td>\n",
       "      <td>Boomers</td>\n",
       "    </tr>\n",
       "    <tr>\n",
       "      <th>21057</th>\n",
       "      <td>Russian Federation</td>\n",
       "      <td>1999</td>\n",
       "      <td>male</td>\n",
       "      <td>35-54 years</td>\n",
       "      <td>20705</td>\n",
       "      <td>21016400</td>\n",
       "      <td>98.52</td>\n",
       "      <td>Russian Federation1999</td>\n",
       "      <td>NaN</td>\n",
       "      <td>195,905,767,669</td>\n",
       "      <td>1412</td>\n",
       "      <td>Boomers</td>\n",
       "    </tr>\n",
       "  </tbody>\n",
       "</table>\n",
       "</div>"
      ],
      "text/plain": [
       "                  country  year   sex          age  suicides_no  population  \\\n",
       "20996  Russian Federation  1994  male  35-54 years        22338    19044200   \n",
       "21008  Russian Federation  1995  male  35-54 years        21706    19249600   \n",
       "21080  Russian Federation  2001  male  35-54 years        21262    21476420   \n",
       "21068  Russian Federation  2000  male  35-54 years        21063    21378098   \n",
       "21057  Russian Federation  1999  male  35-54 years        20705    21016400   \n",
       "\n",
       "       suicides/100k pop            country-year  HDI for year  \\\n",
       "20996             117.30  Russian Federation1994           NaN   \n",
       "21008             112.76  Russian Federation1995           NaN   \n",
       "21080              99.00  Russian Federation2001           NaN   \n",
       "21068              98.53  Russian Federation2000           NaN   \n",
       "21057              98.52  Russian Federation1999           NaN   \n",
       "\n",
       "       gdp_for_year ($)   gdp_per_capita ($) generation  \n",
       "20996    395,077,301,248                2853    Boomers  \n",
       "21008    395,531,066,563                2844    Boomers  \n",
       "21080    306,602,673,980                2229    Boomers  \n",
       "21068    259,708,496,267                1879    Boomers  \n",
       "21057    195,905,767,669                1412    Boomers  "
      ]
     },
     "execution_count": 39,
     "metadata": {},
     "output_type": "execute_result"
    }
   ],
   "source": [
    "df_suicide.sort_values(by=\"suicides_no\", ascending=False).head()"
   ]
  },
  {
   "cell_type": "markdown",
   "metadata": {
    "colab_type": "text",
    "id": "oBWwtHDmKBBj"
   },
   "source": [
    "# Identificação dos grupos\n",
    "Podemos ver que o dataset contém as colunas age e generation, para entender os valores que elas contém, basta utilizar a função **unique**, a qual retorna um vetor com os valores unicos da coluna informada."
   ]
  },
  {
   "cell_type": "code",
   "execution_count": 40,
   "metadata": {
    "colab": {
     "base_uri": "https://localhost:8080/",
     "height": 53
    },
    "colab_type": "code",
    "executionInfo": {
     "elapsed": 559,
     "status": "ok",
     "timestamp": 1571150015909,
     "user": {
      "displayName": "Daniel Henrique",
      "photoUrl": "https://lh3.googleusercontent.com/a-/AAuE7mB7uWOgDcs88_gDwPKr1GNV-XB4MutknSONoATWZA=s64",
      "userId": "14100109719413336991"
     },
     "user_tz": 180
    },
    "id": "NMjXI8rHNKEf",
    "outputId": "22dac32c-6848-448e-9bd3-8388ae5e9fdd"
   },
   "outputs": [
    {
     "data": {
      "text/plain": [
       "array(['15-24 years', '35-54 years', '75+ years', '25-34 years',\n",
       "       '55-74 years', '5-14 years'], dtype=object)"
      ]
     },
     "execution_count": 40,
     "metadata": {},
     "output_type": "execute_result"
    }
   ],
   "source": [
    "df_suicide['age'].unique()"
   ]
  },
  {
   "cell_type": "code",
   "execution_count": 41,
   "metadata": {
    "colab": {
     "base_uri": "https://localhost:8080/",
     "height": 53
    },
    "colab_type": "code",
    "executionInfo": {
     "elapsed": 554,
     "status": "ok",
     "timestamp": 1571150016903,
     "user": {
      "displayName": "Daniel Henrique",
      "photoUrl": "https://lh3.googleusercontent.com/a-/AAuE7mB7uWOgDcs88_gDwPKr1GNV-XB4MutknSONoATWZA=s64",
      "userId": "14100109719413336991"
     },
     "user_tz": 180
    },
    "id": "_dyuq0nrXCSF",
    "outputId": "ea505980-24af-41a8-c4da-689aa38964e4"
   },
   "outputs": [
    {
     "data": {
      "text/plain": [
       "array(['Generation X', 'Silent', 'G.I. Generation', 'Boomers',\n",
       "       'Millenials', 'Generation Z'], dtype=object)"
      ]
     },
     "execution_count": 41,
     "metadata": {},
     "output_type": "execute_result"
    }
   ],
   "source": [
    "df_suicide['generation'].unique()"
   ]
  },
  {
   "cell_type": "markdown",
   "metadata": {
    "colab_type": "text",
    "id": "DYbRN0qRzQYo"
   },
   "source": [
    "Portanto, podemos ver que o dataset faz uma separação por 6 grupos diferentes, tanto por idade, quanto por geração. Além disso, podemos utilizar a função **values_counts()** que retorna uma série que contém contagens de valores únicos."
   ]
  },
  {
   "cell_type": "code",
   "execution_count": 13,
   "metadata": {
    "colab": {
     "base_uri": "https://localhost:8080/",
     "height": 143
    },
    "colab_type": "code",
    "executionInfo": {
     "elapsed": 873,
     "status": "ok",
     "timestamp": 1571150018590,
     "user": {
      "displayName": "Daniel Henrique",
      "photoUrl": "https://lh3.googleusercontent.com/a-/AAuE7mB7uWOgDcs88_gDwPKr1GNV-XB4MutknSONoATWZA=s64",
      "userId": "14100109719413336991"
     },
     "user_tz": 180
    },
    "id": "l777huG11Vic",
    "outputId": "111e8398-ef71-4075-9f28-d86e90f6345d"
   },
   "outputs": [
    {
     "data": {
      "text/plain": [
       "25-34 years    4642\n",
       "55-74 years    4642\n",
       "35-54 years    4642\n",
       "15-24 years    4642\n",
       "75+ years      4642\n",
       "5-14 years     4610\n",
       "Name: age, dtype: int64"
      ]
     },
     "execution_count": 13,
     "metadata": {},
     "output_type": "execute_result"
    }
   ],
   "source": [
    "df_suicide['age'].value_counts()"
   ]
  },
  {
   "cell_type": "code",
   "execution_count": 14,
   "metadata": {
    "colab": {
     "base_uri": "https://localhost:8080/",
     "height": 143
    },
    "colab_type": "code",
    "executionInfo": {
     "elapsed": 613,
     "status": "ok",
     "timestamp": 1571150946368,
     "user": {
      "displayName": "Daniel Henrique",
      "photoUrl": "https://lh3.googleusercontent.com/a-/AAuE7mB7uWOgDcs88_gDwPKr1GNV-XB4MutknSONoATWZA=s64",
      "userId": "14100109719413336991"
     },
     "user_tz": 180
    },
    "id": "zwIFg1WnzQ3m",
    "outputId": "30017f6d-300e-45c5-aafd-f913f367cad8"
   },
   "outputs": [
    {
     "data": {
      "text/plain": [
       "Generation X       6408\n",
       "Silent             6364\n",
       "Millenials         5844\n",
       "Boomers            4990\n",
       "G.I. Generation    2744\n",
       "Generation Z       1470\n",
       "Name: generation, dtype: int64"
      ]
     },
     "execution_count": 14,
     "metadata": {},
     "output_type": "execute_result"
    }
   ],
   "source": [
    "df_suicide['generation'].value_counts()"
   ]
  },
  {
   "cell_type": "markdown",
   "metadata": {
    "colab_type": "text",
    "id": "3tjN86Siahft"
   },
   "source": [
    "# Dados Faltantes\n",
    "Uma das grandes dificuldades enfrentadas por cientistas de dados, são dados faltantes no dataset. Para a identificação desses dados faltantes, basta utilizar a função **isnull()**, seguindo da função **sum()**.\n"
   ]
  },
  {
   "cell_type": "code",
   "execution_count": 15,
   "metadata": {
    "colab": {
     "base_uri": "https://localhost:8080/",
     "height": 251
    },
    "colab_type": "code",
    "executionInfo": {
     "elapsed": 737,
     "status": "ok",
     "timestamp": 1571150792588,
     "user": {
      "displayName": "Daniel Henrique",
      "photoUrl": "https://lh3.googleusercontent.com/a-/AAuE7mB7uWOgDcs88_gDwPKr1GNV-XB4MutknSONoATWZA=s64",
      "userId": "14100109719413336991"
     },
     "user_tz": 180
    },
    "id": "K41ndFbFbMDp",
    "outputId": "a4ee1470-9663-43bf-bbfe-eccb6cd2f47d"
   },
   "outputs": [
    {
     "data": {
      "text/plain": [
       "country                   0\n",
       "year                      0\n",
       "sex                       0\n",
       "age                       0\n",
       "suicides_no               0\n",
       "population                0\n",
       "suicides/100k pop         0\n",
       "country-year              0\n",
       "HDI for year          19456\n",
       " gdp_for_year ($)         0\n",
       "gdp_per_capita ($)        0\n",
       "generation                0\n",
       "dtype: int64"
      ]
     },
     "execution_count": 15,
     "metadata": {},
     "output_type": "execute_result"
    }
   ],
   "source": [
    "df_suicide.isnull().sum()"
   ]
  },
  {
   "cell_type": "markdown",
   "metadata": {
    "colab_type": "text",
    "id": "0GfQWRQj869O"
   },
   "source": [
    "# Visualizando \n",
    "Podemos vizualizar facilmente histogramas de colunas do nosso *Dataframe* através da função **plot(kind='hist')**."
   ]
  },
  {
   "cell_type": "code",
   "execution_count": 18,
   "metadata": {
    "colab": {
     "base_uri": "https://localhost:8080/",
     "height": 287
    },
    "colab_type": "code",
    "executionInfo": {
     "elapsed": 1176,
     "status": "ok",
     "timestamp": 1571152214688,
     "user": {
      "displayName": "Daniel Henrique",
      "photoUrl": "https://lh3.googleusercontent.com/a-/AAuE7mB7uWOgDcs88_gDwPKr1GNV-XB4MutknSONoATWZA=s64",
      "userId": "14100109719413336991"
     },
     "user_tz": 180
    },
    "id": "vGua50fG9iam",
    "outputId": "1354dc25-c055-42f5-c92c-2bc6e2529d21"
   },
   "outputs": [
    {
     "data": {
      "text/plain": [
       "<matplotlib.axes._subplots.AxesSubplot at 0x1c46f1c4128>"
      ]
     },
     "execution_count": 18,
     "metadata": {},
     "output_type": "execute_result"
    },
    {
     "data": {
      "image/png": "[encoded data removed]",
      "text/plain": [
       "<Figure size 432x288 with 1 Axes>"
      ]
     },
     "metadata": {
      "needs_background": "light"
     },
     "output_type": "display_data"
    }
   ],
   "source": [
    "df_suicide[\"HDI for year\"].plot(kind='hist')"
   ]
  },
  {
   "cell_type": "code",
   "execution_count": 17,
   "metadata": {
    "colab": {
     "base_uri": "https://localhost:8080/",
     "height": 287
    },
    "colab_type": "code",
    "executionInfo": {
     "elapsed": 1832,
     "status": "ok",
     "timestamp": 1571152298484,
     "user": {
      "displayName": "Daniel Henrique",
      "photoUrl": "https://lh3.googleusercontent.com/a-/AAuE7mB7uWOgDcs88_gDwPKr1GNV-XB4MutknSONoATWZA=s64",
      "userId": "14100109719413336991"
     },
     "user_tz": 180
    },
    "id": "s_KEqfFf4oQw",
    "outputId": "7b630185-1351-4d99-c6a2-6556a21a4726"
   },
   "outputs": [
    {
     "data": {
      "text/plain": [
       "<matplotlib.axes._subplots.AxesSubplot at 0x1c46f1ed5f8>"
      ]
     },
     "execution_count": 17,
     "metadata": {},
     "output_type": "execute_result"
    },
    {
     "data": {
      "image/png": "[encoded data removed]",
      "text/plain": [
       "<Figure size 432x288 with 1 Axes>"
      ]
     },
     "metadata": {
      "needs_background": "light"
     },
     "output_type": "display_data"
    }
   ],
   "source": [
    "df_suicide.year.plot(kind='hist')"
   ]
  },
  {
   "cell_type": "markdown",
   "metadata": {
    "colab": {},
    "colab_type": "code",
    "id": "aaHKppp49f20"
   },
   "source": [
    "# Limpando o dataset"
   ]
  },
  {
   "cell_type": "markdown",
   "metadata": {},
   "source": [
    "Apagando as colunas que não serão utilizadas"
   ]
  },
  {
   "cell_type": "code",
   "execution_count": 42,
   "metadata": {},
   "outputs": [],
   "source": [
    "df_suicide.columns=[\"country\",\"year\",\"gender\",\"age_group\",\"suicide_number\",\"population\",\"sui_pop\",\"country_year\",\"hdi\",\"gdp_for_year\",\"gdp_per_capita\",\"generation\"]"
   ]
  },
  {
   "cell_type": "code",
   "execution_count": 43,
   "metadata": {},
   "outputs": [
    {
     "data": {
      "text/html": [
       "<div>\n",
       "<style scoped>\n",
       "    .dataframe tbody tr th:only-of-type {\n",
       "        vertical-align: middle;\n",
       "    }\n",
       "\n",
       "    .dataframe tbody tr th {\n",
       "        vertical-align: top;\n",
       "    }\n",
       "\n",
       "    .dataframe thead th {\n",
       "        text-align: right;\n",
       "    }\n",
       "</style>\n",
       "<table border=\"1\" class=\"dataframe\">\n",
       "  <thead>\n",
       "    <tr style=\"text-align: right;\">\n",
       "      <th></th>\n",
       "      <th>country</th>\n",
       "      <th>year</th>\n",
       "      <th>gender</th>\n",
       "      <th>age_group</th>\n",
       "      <th>suicide_number</th>\n",
       "      <th>population</th>\n",
       "      <th>sui_pop</th>\n",
       "      <th>hdi</th>\n",
       "      <th>generation</th>\n",
       "    </tr>\n",
       "  </thead>\n",
       "  <tbody>\n",
       "    <tr>\n",
       "      <th>0</th>\n",
       "      <td>Albania</td>\n",
       "      <td>1987</td>\n",
       "      <td>male</td>\n",
       "      <td>15-24 years</td>\n",
       "      <td>21</td>\n",
       "      <td>312900</td>\n",
       "      <td>6.71</td>\n",
       "      <td>NaN</td>\n",
       "      <td>Generation X</td>\n",
       "    </tr>\n",
       "    <tr>\n",
       "      <th>1</th>\n",
       "      <td>Albania</td>\n",
       "      <td>1987</td>\n",
       "      <td>male</td>\n",
       "      <td>35-54 years</td>\n",
       "      <td>16</td>\n",
       "      <td>308000</td>\n",
       "      <td>5.19</td>\n",
       "      <td>NaN</td>\n",
       "      <td>Silent</td>\n",
       "    </tr>\n",
       "    <tr>\n",
       "      <th>2</th>\n",
       "      <td>Albania</td>\n",
       "      <td>1987</td>\n",
       "      <td>female</td>\n",
       "      <td>15-24 years</td>\n",
       "      <td>14</td>\n",
       "      <td>289700</td>\n",
       "      <td>4.83</td>\n",
       "      <td>NaN</td>\n",
       "      <td>Generation X</td>\n",
       "    </tr>\n",
       "    <tr>\n",
       "      <th>3</th>\n",
       "      <td>Albania</td>\n",
       "      <td>1987</td>\n",
       "      <td>male</td>\n",
       "      <td>75+ years</td>\n",
       "      <td>1</td>\n",
       "      <td>21800</td>\n",
       "      <td>4.59</td>\n",
       "      <td>NaN</td>\n",
       "      <td>G.I. Generation</td>\n",
       "    </tr>\n",
       "    <tr>\n",
       "      <th>4</th>\n",
       "      <td>Albania</td>\n",
       "      <td>1987</td>\n",
       "      <td>male</td>\n",
       "      <td>25-34 years</td>\n",
       "      <td>9</td>\n",
       "      <td>274300</td>\n",
       "      <td>3.28</td>\n",
       "      <td>NaN</td>\n",
       "      <td>Boomers</td>\n",
       "    </tr>\n",
       "  </tbody>\n",
       "</table>\n",
       "</div>"
      ],
      "text/plain": [
       "   country  year  gender    age_group  suicide_number  population  sui_pop  \\\n",
       "0  Albania  1987    male  15-24 years              21      312900     6.71   \n",
       "1  Albania  1987    male  35-54 years              16      308000     5.19   \n",
       "2  Albania  1987  female  15-24 years              14      289700     4.83   \n",
       "3  Albania  1987    male    75+ years               1       21800     4.59   \n",
       "4  Albania  1987    male  25-34 years               9      274300     3.28   \n",
       "\n",
       "   hdi       generation  \n",
       "0  NaN     Generation X  \n",
       "1  NaN           Silent  \n",
       "2  NaN     Generation X  \n",
       "3  NaN  G.I. Generation  \n",
       "4  NaN          Boomers  "
      ]
     },
     "execution_count": 43,
     "metadata": {},
     "output_type": "execute_result"
    }
   ],
   "source": [
    "df_suicide.drop([\"country_year\",\"gdp_for_year\",\"gdp_per_capita\"],axis=1,inplace=True)\n",
    "df_suicide.head()"
   ]
  },
  {
   "cell_type": "markdown",
   "metadata": {},
   "source": [
    "Substituindo a classificação das idades no dataset utilizando uma função. Primeiro, observe o formato dos dados na seguinte coluna."
   ]
  },
  {
   "cell_type": "code",
   "execution_count": 47,
   "metadata": {},
   "outputs": [
    {
     "data": {
      "text/plain": [
       "0    15-24 years\n",
       "1    35-54 years\n",
       "2    15-24 years\n",
       "3      75+ years\n",
       "4    25-34 years\n",
       "Name: age_group, dtype: object"
      ]
     },
     "execution_count": 47,
     "metadata": {},
     "output_type": "execute_result"
    }
   ],
   "source": [
    "df_suicide[\"age_group\"].head()"
   ]
  },
  {
   "cell_type": "markdown",
   "metadata": {},
   "source": [
    "Para alterar as strings para valores melhores para a análise, definimos a função"
   ]
  },
  {
   "cell_type": "code",
   "execution_count": 51,
   "metadata": {},
   "outputs": [],
   "source": [
    "def substitute(x):\n",
    "    if '5-14 years' in str(x):\n",
    "        x = str(x).replace('5-14 years','child')\n",
    "    elif '15-24 years' in str(x):\n",
    "        x = str(x).replace('15-24 years','youth')\n",
    "    elif '25-34 years' in str(x):\n",
    "        x = str(x).replace('25-34 years','young adult')\n",
    "    elif '35-54 years' in str(x):\n",
    "        x = str(x).replace('35-54 years','early adult')\n",
    "    elif '55-74 years' in str(x):\n",
    "        x = str(x).replace('55-74 years','adult')\n",
    "    elif '75+ years' in str(x):\n",
    "        x = str(x).replace('75+ years','senior')\n",
    "    return str(x)"
   ]
  },
  {
   "cell_type": "markdown",
   "metadata": {},
   "source": [
    "E então aplicamos a função à coluna"
   ]
  },
  {
   "cell_type": "code",
   "execution_count": 52,
   "metadata": {},
   "outputs": [
    {
     "data": {
      "text/plain": [
       "0          youth\n",
       "1    early adult\n",
       "2          youth\n",
       "3         senior\n",
       "4    young adult\n",
       "Name: age_group, dtype: object"
      ]
     },
     "execution_count": 52,
     "metadata": {},
     "output_type": "execute_result"
    }
   ],
   "source": [
    "df_suicide[\"age_group\"] = df_suicide[\"age_group\"].apply(substitute)\n",
    "df_suicide[\"age_group\"].head()"
   ]
  },
  {
   "cell_type": "markdown",
   "metadata": {},
   "source": [
    "Agora vamos preencher os valores nulos do dataset. Para isso, definimos uma função."
   ]
  },
  {
   "cell_type": "code",
   "execution_count": 56,
   "metadata": {},
   "outputs": [],
   "source": [
    "def impute_median(series):\n",
    "    return series.fillna(series.median())\n",
    "\n"
   ]
  },
  {
   "cell_type": "markdown",
   "metadata": {},
   "source": [
    "Em seguida aplicamos a função."
   ]
  },
  {
   "cell_type": "code",
   "execution_count": 55,
   "metadata": {},
   "outputs": [],
   "source": [
    "df_suicide.hdi =df_suicide[\"hdi\"].transform(impute_median)"
   ]
  },
  {
   "cell_type": "code",
   "execution_count": 57,
   "metadata": {},
   "outputs": [
    {
     "data": {
      "text/plain": [
       "country           0\n",
       "year              0\n",
       "gender            0\n",
       "age_group         0\n",
       "suicide_number    0\n",
       "population        0\n",
       "sui_pop           0\n",
       "hdi               0\n",
       "generation        0\n",
       "dtype: int64"
      ]
     },
     "execution_count": 57,
     "metadata": {},
     "output_type": "execute_result"
    }
   ],
   "source": [
    "df_suicide.isnull().sum()"
   ]
  },
  {
   "cell_type": "markdown",
   "metadata": {},
   "source": [
    "Agora podemos trabalhar em cima do dataset usando outras bibliotecas. Como não é o nosso foco nessa análise, deixamos o restante da análise para aqueles que tiverem curiosidade (https://www.kaggle.com/nidaguler/eda-and-prediction-suicide-1985-to-2016/notebook)."
   ]
  },
  {
   "cell_type": "code",
   "execution_count": null,
   "metadata": {},
   "outputs": [],
   "source": []
  }
 ],
 "metadata": {
  "colab": {
   "name": "Análise das taxas de suicídio de 1985 à 2016.ipynb",
   "provenance": [],
   "toc_visible": true
  },
  "kernelspec": {
   "display_name": "Python 3",
   "language": "python",
   "name": "python3"
  },
  "language_info": {
   "codemirror_mode": {
    "name": "ipython",
    "version": 3
   },
   "file_extension": ".py",
   "mimetype": "text/x-python",
   "name": "python",
   "nbconvert_exporter": "python",
   "pygments_lexer": "ipython3",
   "version": "3.7.3"
  }
 },
 "nbformat": 4,
 "nbformat_minor": 1
}
